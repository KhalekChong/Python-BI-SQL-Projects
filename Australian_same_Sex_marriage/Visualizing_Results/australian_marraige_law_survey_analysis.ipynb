{
 "cells": [
  {
   "cell_type": "markdown",
   "id": "0b485c21",
   "metadata": {},
   "source": [
    "# Australian Marriage Law Survey Visual Analysis\n",
    "\n",
    "**According to wikipedia** : The Australian Marriage Law Postal Survey was a national survey designed to gauge support for legalising same-sex marriage in Australia. The survey was held via the postal service between 12 September and 7 November 2017. Unlike voting in elections and referendums, which is compulsory in Australia, responding to the survey was voluntary. \n",
    "\n",
    "In this notebook, we analyze the **Australian Marriage Law Postal Survey** by visualizing the data. The data in this file has been cleaned thoroughly to prepare it for analysis.\n",
    "\n",
    "The notebook that cleans the raw data from scratch is called - **\"australian_marriage_law_survey_cleaning\"**\n",
    "   \n",
    "*Note that this notebook is really part of a greater whole - we visualize results in this notebook, but there is an additional notebook that normalizes the data - and then uses SQLalchemy to import the results into SMSS (microsoft sql server management tool). On top of that, we create an interactive dashboard that looks at the results in Power BI*\n",
    "\n",
    "***Unfortunately, Much Meaningful analyses cannot be done due to a lack of data at the electorate division level - i.e. (divisions within states). Hence, we do a cursory analysis of the data at the state level. View Wikipedia / other news journals for a more detailed analysis***\n",
    "\n",
    "***There is a lack of data because the package that hosted the data could not be downloaded, since it has been retired from CRAN. Other troubleshooting methods have not worked so far (such as the one suggested by GPT)***\n",
    "\n",
    "![My Image](eechidna_failure.png)"
   ]
  },
  {
   "cell_type": "code",
   "execution_count": 13,
   "id": "3996e3b0",
   "metadata": {},
   "outputs": [],
   "source": [
    "# Import Packages\n",
    "import pandas as pd\n",
    "import numpy as np\n",
    "import matplotlib.pyplot as plt\n",
    "import plotly.graph_objects as go"
   ]
  },
  {
   "cell_type": "code",
   "execution_count": 14,
   "id": "694adfa5",
   "metadata": {},
   "outputs": [],
   "source": [
    "# Read in the data\n",
    "df_part = pd.read_csv('aus_participation.csv')\n",
    "df_part_gend = pd.read_csv('aus_participation_gendered.csv')\n",
    "df_response = pd.read_csv('aus_response.csv')"
   ]
  },
  {
   "cell_type": "markdown",
   "id": "1456b917",
   "metadata": {},
   "source": [
    "## Visualizing the Summary Statistics\n",
    "\n",
    "    * We first identify the largest states within Australia, to narrow down our analysis\n",
    "    \n",
    "    * New South Wales, Queensland, and Victoria have the largest number of votes, which far exceed any other state\n",
    "    "
   ]
  },
  {
   "cell_type": "code",
   "execution_count": 37,
   "id": "674309c4",
   "metadata": {
    "scrolled": false
   },
   "outputs": [
    {
     "data": {
      "image/png": "[encoded data removed]",
      "text/plain": [
       "<Figure size 864x432 with 1 Axes>"
      ]
     },
     "metadata": {
      "needs_background": "light"
     },
     "output_type": "display_data"
    }
   ],
   "source": [
    "plot = df_response.groupby('State')['vote_total_qty'].sum().sort_values().plot(kind='bar', figsize=(12,6))\n",
    "plot.tick_params(axis='x', rotation=45)\n",
    "plt.xlabel('State', fontsize = 20)\n",
    "plt.title('Number of Votes from Each State', fontsize = 20)\n",
    "plt.show()"
   ]
  },
  {
   "cell_type": "markdown",
   "id": "7c255187",
   "metadata": {},
   "source": [
    "## Visualizing the Net contribution per state\n",
    "\n",
    "    * To get a visual indication of the effect each state had in contributing to the final outcome, we plot a waterfall chart\n",
    "    \n",
    "    * Despite its massive size, New South Wales has only a comparable net effect to Queensland and is lower than Victoria's\n",
    "    \n",
    "    * As for the other states, the difference in size of states makes it hard to compare each state with the others"
   ]
  },
  {
   "cell_type": "code",
   "execution_count": 125,
   "id": "a67ffb0b",
   "metadata": {},
   "outputs": [],
   "source": [
    "df_response2 = df_response.copy()\n",
    "df_response2['net_vote'] = df_response['vote_yes_pct'] - df_response['vote_no_pct']\n",
    "\n",
    "# Run only once\n",
    "water_fall = df_response2.groupby('State')['net_vote'].sum().sort_values(ascending=False)\n",
    "water_fall = water_fall.astype(int)\n",
    "water_fall['Total'] = water_fall.sum()"
   ]
  },
  {
   "cell_type": "code",
   "execution_count": 126,
   "id": "038f56f9",
   "metadata": {
    "scrolled": false
   },
   "outputs": [
    {
     "data": {
      "application/vnd.plotly.v1+json": {
       "config": {
        "plotlyServerURL": "https://plot.ly"
       },
       "data": [
        {
         "connector": {
          "line": {
           "color": "rgb(63, 63, 63)"
          }
         },
         "measure": [
          "relative",
          "relative",
          "relative",
          "relative",
          "relative",
          "relative",
          "relative",
          "relative",
          "total"
         ],
         "name": "20",
         "orientation": "v",
         "text": [
          1085,
          679,
          624,
          435,
          269,
          134,
          96,
          39,
          3361
         ],
         "textposition": "outside",
         "type": "waterfall",
         "x": [
          "Victoria",
          "New South Wales",
          "Queensland",
          "Western Australia",
          "South Australia",
          "Tasmania",
          "Australian Capital Territory",
          "Northern Territory",
          "Total"
         ],
         "y": [
          1085,
          679,
          624,
          435,
          269,
          134,
          96,
          39,
          3361
         ]
        }
       ],
       "layout": {
        "showlegend": false,
        "template": {
         "data": {
          "bar": [
           {
            "error_x": {
             "color": "#2a3f5f"
            },
            "error_y": {
             "color": "#2a3f5f"
            },
            "marker": {
             "line": {
              "color": "#E5ECF6",
              "width": 0.5
             }
            },
            "type": "bar"
           }
          ],
          "barpolar": [
           {
            "marker": {
             "line": {
              "color": "#E5ECF6",
              "width": 0.5
             }
            },
            "type": "barpolar"
           }
          ],
          "carpet": [
           {
            "aaxis": {
             "endlinecolor": "#2a3f5f",
             "gridcolor": "white",
             "linecolor": "white",
             "minorgridcolor": "white",
             "startlinecolor": "#2a3f5f"
            },
            "baxis": {
             "endlinecolor": "#2a3f5f",
             "gridcolor": "white",
             "linecolor": "white",
             "minorgridcolor": "white",
             "startlinecolor": "#2a3f5f"
            },
            "type": "carpet"
           }
          ],
          "choropleth": [
           {
            "colorbar": {
             "outlinewidth": 0,
             "ticks": ""
            },
            "type": "choropleth"
           }
          ],
          "contour": [
           {
            "colorbar": {
             "outlinewidth": 0,
             "ticks": ""
            },
            "colorscale": [
             [
              0,
              "#0d0887"
             ],
             [
              0.1111111111111111,
              "#46039f"
             ],
             [
              0.2222222222222222,
              "#7201a8"
             ],
             [
              0.3333333333333333,
              "#9c179e"
             ],
             [
              0.4444444444444444,
              "#bd3786"
             ],
             [
              0.5555555555555556,
              "#d8576b"
             ],
             [
              0.6666666666666666,
              "#ed7953"
             ],
             [
              0.7777777777777778,
              "#fb9f3a"
             ],
             [
              0.8888888888888888,
              "#fdca26"
             ],
             [
              1,
              "#f0f921"
             ]
            ],
            "type": "contour"
           }
          ],
          "contourcarpet": [
           {
            "colorbar": {
             "outlinewidth": 0,
             "ticks": ""
            },
            "type": "contourcarpet"
           }
          ],
          "heatmap": [
           {
            "colorbar": {
             "outlinewidth": 0,
             "ticks": ""
            },
            "colorscale": [
             [
              0,
              "#0d0887"
             ],
             [
              0.1111111111111111,
              "#46039f"
             ],
             [
              0.2222222222222222,
              "#7201a8"
             ],
             [
              0.3333333333333333,
              "#9c179e"
             ],
             [
              0.4444444444444444,
              "#bd3786"
             ],
             [
              0.5555555555555556,
              "#d8576b"
             ],
             [
              0.6666666666666666,
              "#ed7953"
             ],
             [
              0.7777777777777778,
              "#fb9f3a"
             ],
             [
              0.8888888888888888,
              "#fdca26"
             ],
             [
              1,
              "#f0f921"
             ]
            ],
            "type": "heatmap"
           }
          ],
          "heatmapgl": [
           {
            "colorbar": {
             "outlinewidth": 0,
             "ticks": ""
            },
            "colorscale": [
             [
              0,
              "#0d0887"
             ],
             [
              0.1111111111111111,
              "#46039f"
             ],
             [
              0.2222222222222222,
              "#7201a8"
             ],
             [
              0.3333333333333333,
              "#9c179e"
             ],
             [
              0.4444444444444444,
              "#bd3786"
             ],
             [
              0.5555555555555556,
              "#d8576b"
             ],
             [
              0.6666666666666666,
              "#ed7953"
             ],
             [
              0.7777777777777778,
              "#fb9f3a"
             ],
             [
              0.8888888888888888,
              "#fdca26"
             ],
             [
              1,
              "#f0f921"
             ]
            ],
            "type": "heatmapgl"
           }
          ],
          "histogram": [
           {
            "marker": {
             "colorbar": {
              "outlinewidth": 0,
              "ticks": ""
             }
            },
            "type": "histogram"
           }
          ],
          "histogram2d": [
           {
            "colorbar": {
             "outlinewidth": 0,
             "ticks": ""
            },
            "colorscale": [
             [
              0,
              "#0d0887"
             ],
             [
              0.1111111111111111,
              "#46039f"
             ],
             [
              0.2222222222222222,
              "#7201a8"
             ],
             [
              0.3333333333333333,
              "#9c179e"
             ],
             [
              0.4444444444444444,
              "#bd3786"
             ],
             [
              0.5555555555555556,
              "#d8576b"
             ],
             [
              0.6666666666666666,
              "#ed7953"
             ],
             [
              0.7777777777777778,
              "#fb9f3a"
             ],
             [
              0.8888888888888888,
              "#fdca26"
             ],
             [
              1,
              "#f0f921"
             ]
            ],
            "type": "histogram2d"
           }
          ],
          "histogram2dcontour": [
           {
            "colorbar": {
             "outlinewidth": 0,
             "ticks": ""
            },
            "colorscale": [
             [
              0,
              "#0d0887"
             ],
             [
              0.1111111111111111,
              "#46039f"
             ],
             [
              0.2222222222222222,
              "#7201a8"
             ],
             [
              0.3333333333333333,
              "#9c179e"
             ],
             [
              0.4444444444444444,
              "#bd3786"
             ],
             [
              0.5555555555555556,
              "#d8576b"
             ],
             [
              0.6666666666666666,
              "#ed7953"
             ],
             [
              0.7777777777777778,
              "#fb9f3a"
             ],
             [
              0.8888888888888888,
              "#fdca26"
             ],
             [
              1,
              "#f0f921"
             ]
            ],
            "type": "histogram2dcontour"
           }
          ],
          "mesh3d": [
           {
            "colorbar": {
             "outlinewidth": 0,
             "ticks": ""
            },
            "type": "mesh3d"
           }
          ],
          "parcoords": [
           {
            "line": {
             "colorbar": {
              "outlinewidth": 0,
              "ticks": ""
             }
            },
            "type": "parcoords"
           }
          ],
          "pie": [
           {
            "automargin": true,
            "type": "pie"
           }
          ],
          "scatter": [
           {
            "marker": {
             "colorbar": {
              "outlinewidth": 0,
              "ticks": ""
             }
            },
            "type": "scatter"
           }
          ],
          "scatter3d": [
           {
            "line": {
             "colorbar": {
              "outlinewidth": 0,
              "ticks": ""
             }
            },
            "marker": {
             "colorbar": {
              "outlinewidth": 0,
              "ticks": ""
             }
            },
            "type": "scatter3d"
           }
          ],
          "scattercarpet": [
           {
            "marker": {
             "colorbar": {
              "outlinewidth": 0,
              "ticks": ""
             }
            },
            "type": "scattercarpet"
           }
          ],
          "scattergeo": [
           {
            "marker": {
             "colorbar": {
              "outlinewidth": 0,
              "ticks": ""
             }
            },
            "type": "scattergeo"
           }
          ],
          "scattergl": [
           {
            "marker": {
             "colorbar": {
              "outlinewidth": 0,
              "ticks": ""
             }
            },
            "type": "scattergl"
           }
          ],
          "scattermapbox": [
           {
            "marker": {
             "colorbar": {
              "outlinewidth": 0,
              "ticks": ""
             }
            },
            "type": "scattermapbox"
           }
          ],
          "scatterpolar": [
           {
            "marker": {
             "colorbar": {
              "outlinewidth": 0,
              "ticks": ""
             }
            },
            "type": "scatterpolar"
           }
          ],
          "scatterpolargl": [
           {
            "marker": {
             "colorbar": {
              "outlinewidth": 0,
              "ticks": ""
             }
            },
            "type": "scatterpolargl"
           }
          ],
          "scatterternary": [
           {
            "marker": {
             "colorbar": {
              "outlinewidth": 0,
              "ticks": ""
             }
            },
            "type": "scatterternary"
           }
          ],
          "surface": [
           {
            "colorbar": {
             "outlinewidth": 0,
             "ticks": ""
            },
            "colorscale": [
             [
              0,
              "#0d0887"
             ],
             [
              0.1111111111111111,
              "#46039f"
             ],
             [
              0.2222222222222222,
              "#7201a8"
             ],
             [
              0.3333333333333333,
              "#9c179e"
             ],
             [
              0.4444444444444444,
              "#bd3786"
             ],
             [
              0.5555555555555556,
              "#d8576b"
             ],
             [
              0.6666666666666666,
              "#ed7953"
             ],
             [
              0.7777777777777778,
              "#fb9f3a"
             ],
             [
              0.8888888888888888,
              "#fdca26"
             ],
             [
              1,
              "#f0f921"
             ]
            ],
            "type": "surface"
           }
          ],
          "table": [
           {
            "cells": {
             "fill": {
              "color": "#EBF0F8"
             },
             "line": {
              "color": "white"
             }
            },
            "header": {
             "fill": {
              "color": "#C8D4E3"
             },
             "line": {
              "color": "white"
             }
            },
            "type": "table"
           }
          ]
         },
         "layout": {
          "annotationdefaults": {
           "arrowcolor": "#2a3f5f",
           "arrowhead": 0,
           "arrowwidth": 1
          },
          "autotypenumbers": "strict",
          "coloraxis": {
           "colorbar": {
            "outlinewidth": 0,
            "ticks": ""
           }
          },
          "colorscale": {
           "diverging": [
            [
             0,
             "#8e0152"
            ],
            [
             0.1,
             "#c51b7d"
            ],
            [
             0.2,
             "#de77ae"
            ],
            [
             0.3,
             "#f1b6da"
            ],
            [
             0.4,
             "#fde0ef"
            ],
            [
             0.5,
             "#f7f7f7"
            ],
            [
             0.6,
             "#e6f5d0"
            ],
            [
             0.7,
             "#b8e186"
            ],
            [
             0.8,
             "#7fbc41"
            ],
            [
             0.9,
             "#4d9221"
            ],
            [
             1,
             "#276419"
            ]
           ],
           "sequential": [
            [
             0,
             "#0d0887"
            ],
            [
             0.1111111111111111,
             "#46039f"
            ],
            [
             0.2222222222222222,
             "#7201a8"
            ],
            [
             0.3333333333333333,
             "#9c179e"
            ],
            [
             0.4444444444444444,
             "#bd3786"
            ],
            [
             0.5555555555555556,
             "#d8576b"
            ],
            [
             0.6666666666666666,
             "#ed7953"
            ],
            [
             0.7777777777777778,
             "#fb9f3a"
            ],
            [
             0.8888888888888888,
             "#fdca26"
            ],
            [
             1,
             "#f0f921"
            ]
           ],
           "sequentialminus": [
            [
             0,
             "#0d0887"
            ],
            [
             0.1111111111111111,
             "#46039f"
            ],
            [
             0.2222222222222222,
             "#7201a8"
            ],
            [
             0.3333333333333333,
             "#9c179e"
            ],
            [
             0.4444444444444444,
             "#bd3786"
            ],
            [
             0.5555555555555556,
             "#d8576b"
            ],
            [
             0.6666666666666666,
             "#ed7953"
            ],
            [
             0.7777777777777778,
             "#fb9f3a"
            ],
            [
             0.8888888888888888,
             "#fdca26"
            ],
            [
             1,
             "#f0f921"
            ]
           ]
          },
          "colorway": [
           "#636efa",
           "#EF553B",
           "#00cc96",
           "#ab63fa",
           "#FFA15A",
           "#19d3f3",
           "#FF6692",
           "#B6E880",
           "#FF97FF",
           "#FECB52"
          ],
          "font": {
           "color": "#2a3f5f"
          },
          "geo": {
           "bgcolor": "white",
           "lakecolor": "white",
           "landcolor": "#E5ECF6",
           "showlakes": true,
           "showland": true,
           "subunitcolor": "white"
          },
          "hoverlabel": {
           "align": "left"
          },
          "hovermode": "closest",
          "mapbox": {
           "style": "light"
          },
          "paper_bgcolor": "white",
          "plot_bgcolor": "#E5ECF6",
          "polar": {
           "angularaxis": {
            "gridcolor": "white",
            "linecolor": "white",
            "ticks": ""
           },
           "bgcolor": "#E5ECF6",
           "radialaxis": {
            "gridcolor": "white",
            "linecolor": "white",
            "ticks": ""
           }
          },
          "scene": {
           "xaxis": {
            "backgroundcolor": "#E5ECF6",
            "gridcolor": "white",
            "gridwidth": 2,
            "linecolor": "white",
            "showbackground": true,
            "ticks": "",
            "zerolinecolor": "white"
           },
           "yaxis": {
            "backgroundcolor": "#E5ECF6",
            "gridcolor": "white",
            "gridwidth": 2,
            "linecolor": "white",
            "showbackground": true,
            "ticks": "",
            "zerolinecolor": "white"
           },
           "zaxis": {
            "backgroundcolor": "#E5ECF6",
            "gridcolor": "white",
            "gridwidth": 2,
            "linecolor": "white",
            "showbackground": true,
            "ticks": "",
            "zerolinecolor": "white"
           }
          },
          "shapedefaults": {
           "line": {
            "color": "#2a3f5f"
           }
          },
          "ternary": {
           "aaxis": {
            "gridcolor": "white",
            "linecolor": "white",
            "ticks": ""
           },
           "baxis": {
            "gridcolor": "white",
            "linecolor": "white",
            "ticks": ""
           },
           "bgcolor": "#E5ECF6",
           "caxis": {
            "gridcolor": "white",
            "linecolor": "white",
            "ticks": ""
           }
          },
          "title": {
           "x": 0.05
          },
          "xaxis": {
           "automargin": true,
           "gridcolor": "white",
           "linecolor": "white",
           "ticks": "",
           "title": {
            "standoff": 15
           },
           "zerolinecolor": "white",
           "zerolinewidth": 2
          },
          "yaxis": {
           "automargin": true,
           "gridcolor": "white",
           "linecolor": "white",
           "ticks": "",
           "title": {
            "standoff": 15
           },
           "zerolinecolor": "white",
           "zerolinewidth": 2
          }
         }
        },
        "title": {
         "text": "Ranking Net Effect of Votes by State"
        }
       }
      },
      "text/html": [
       "<div>                            <div id=\"224931ec-7af0-4a8e-b541-9854fb427112\" class=\"plotly-graph-div\" style=\"height:525px; width:100%;\"></div>            <script type=\"text/javascript\">                require([\"plotly\"], function(Plotly) {                    window.PLOTLYENV=window.PLOTLYENV || {};                                    if (document.getElementById(\"224931ec-7af0-4a8e-b541-9854fb427112\")) {                    Plotly.newPlot(                        \"224931ec-7af0-4a8e-b541-9854fb427112\",                        [{\"connector\": {\"line\": {\"color\": \"rgb(63, 63, 63)\"}}, \"measure\": [\"relative\", \"relative\", \"relative\", \"relative\", \"relative\", \"relative\", \"relative\", \"relative\", \"total\"], \"name\": \"20\", \"orientation\": \"v\", \"text\": [1085.0, 679.0, 624.0, 435.0, 269.0, 134.0, 96.0, 39.0, 3361.0], \"textposition\": \"outside\", \"type\": \"waterfall\", \"x\": [\"Victoria\", \"New South Wales\", \"Queensland\", \"Western Australia\", \"South Australia\", \"Tasmania\", \"Australian Capital Territory\", \"Northern Territory\", \"Total\"], \"y\": [1085, 679, 624, 435, 269, 134, 96, 39, 3361]}],                        {\"showlegend\": false, \"template\": {\"data\": {\"bar\": [{\"error_x\": {\"color\": \"#2a3f5f\"}, \"error_y\": {\"color\": \"#2a3f5f\"}, \"marker\": {\"line\": {\"color\": \"#E5ECF6\", \"width\": 0.5}}, \"type\": \"bar\"}], \"barpolar\": [{\"marker\": {\"line\": {\"color\": \"#E5ECF6\", \"width\": 0.5}}, \"type\": \"barpolar\"}], \"carpet\": [{\"aaxis\": {\"endlinecolor\": \"#2a3f5f\", \"gridcolor\": \"white\", \"linecolor\": \"white\", \"minorgridcolor\": \"white\", \"startlinecolor\": \"#2a3f5f\"}, \"baxis\": {\"endlinecolor\": \"#2a3f5f\", \"gridcolor\": \"white\", \"linecolor\": \"white\", \"minorgridcolor\": \"white\", \"startlinecolor\": \"#2a3f5f\"}, \"type\": \"carpet\"}], \"choropleth\": [{\"colorbar\": {\"outlinewidth\": 0, \"ticks\": \"\"}, \"type\": \"choropleth\"}], \"contour\": [{\"colorbar\": {\"outlinewidth\": 0, \"ticks\": \"\"}, \"colorscale\": [[0.0, \"#0d0887\"], [0.1111111111111111, \"#46039f\"], [0.2222222222222222, \"#7201a8\"], [0.3333333333333333, \"#9c179e\"], [0.4444444444444444, \"#bd3786\"], [0.5555555555555556, \"#d8576b\"], [0.6666666666666666, \"#ed7953\"], [0.7777777777777778, \"#fb9f3a\"], [0.8888888888888888, \"#fdca26\"], [1.0, \"#f0f921\"]], \"type\": \"contour\"}], \"contourcarpet\": [{\"colorbar\": {\"outlinewidth\": 0, \"ticks\": \"\"}, \"type\": \"contourcarpet\"}], \"heatmap\": [{\"colorbar\": {\"outlinewidth\": 0, \"ticks\": \"\"}, \"colorscale\": [[0.0, \"#0d0887\"], [0.1111111111111111, \"#46039f\"], [0.2222222222222222, \"#7201a8\"], [0.3333333333333333, \"#9c179e\"], [0.4444444444444444, \"#bd3786\"], [0.5555555555555556, \"#d8576b\"], [0.6666666666666666, \"#ed7953\"], [0.7777777777777778, \"#fb9f3a\"], [0.8888888888888888, \"#fdca26\"], [1.0, \"#f0f921\"]], \"type\": \"heatmap\"}], \"heatmapgl\": [{\"colorbar\": {\"outlinewidth\": 0, \"ticks\": \"\"}, \"colorscale\": [[0.0, \"#0d0887\"], [0.1111111111111111, \"#46039f\"], [0.2222222222222222, \"#7201a8\"], [0.3333333333333333, \"#9c179e\"], [0.4444444444444444, \"#bd3786\"], [0.5555555555555556, \"#d8576b\"], [0.6666666666666666, \"#ed7953\"], [0.7777777777777778, \"#fb9f3a\"], [0.8888888888888888, \"#fdca26\"], [1.0, \"#f0f921\"]], \"type\": \"heatmapgl\"}], \"histogram\": [{\"marker\": {\"colorbar\": {\"outlinewidth\": 0, \"ticks\": \"\"}}, \"type\": \"histogram\"}], \"histogram2d\": [{\"colorbar\": {\"outlinewidth\": 0, \"ticks\": \"\"}, \"colorscale\": [[0.0, \"#0d0887\"], [0.1111111111111111, \"#46039f\"], [0.2222222222222222, \"#7201a8\"], [0.3333333333333333, \"#9c179e\"], [0.4444444444444444, \"#bd3786\"], [0.5555555555555556, \"#d8576b\"], [0.6666666666666666, \"#ed7953\"], [0.7777777777777778, \"#fb9f3a\"], [0.8888888888888888, \"#fdca26\"], [1.0, \"#f0f921\"]], \"type\": \"histogram2d\"}], \"histogram2dcontour\": [{\"colorbar\": {\"outlinewidth\": 0, \"ticks\": \"\"}, \"colorscale\": [[0.0, \"#0d0887\"], [0.1111111111111111, \"#46039f\"], [0.2222222222222222, \"#7201a8\"], [0.3333333333333333, \"#9c179e\"], [0.4444444444444444, \"#bd3786\"], [0.5555555555555556, \"#d8576b\"], [0.6666666666666666, \"#ed7953\"], [0.7777777777777778, \"#fb9f3a\"], [0.8888888888888888, \"#fdca26\"], [1.0, \"#f0f921\"]], \"type\": \"histogram2dcontour\"}], \"mesh3d\": [{\"colorbar\": {\"outlinewidth\": 0, \"ticks\": \"\"}, \"type\": \"mesh3d\"}], \"parcoords\": [{\"line\": {\"colorbar\": {\"outlinewidth\": 0, \"ticks\": \"\"}}, \"type\": \"parcoords\"}], \"pie\": [{\"automargin\": true, \"type\": \"pie\"}], \"scatter\": [{\"marker\": {\"colorbar\": {\"outlinewidth\": 0, \"ticks\": \"\"}}, \"type\": \"scatter\"}], \"scatter3d\": [{\"line\": {\"colorbar\": {\"outlinewidth\": 0, \"ticks\": \"\"}}, \"marker\": {\"colorbar\": {\"outlinewidth\": 0, \"ticks\": \"\"}}, \"type\": \"scatter3d\"}], \"scattercarpet\": [{\"marker\": {\"colorbar\": {\"outlinewidth\": 0, \"ticks\": \"\"}}, \"type\": \"scattercarpet\"}], \"scattergeo\": [{\"marker\": {\"colorbar\": {\"outlinewidth\": 0, \"ticks\": \"\"}}, \"type\": \"scattergeo\"}], \"scattergl\": [{\"marker\": {\"colorbar\": {\"outlinewidth\": 0, \"ticks\": \"\"}}, \"type\": \"scattergl\"}], \"scattermapbox\": [{\"marker\": {\"colorbar\": {\"outlinewidth\": 0, \"ticks\": \"\"}}, \"type\": \"scattermapbox\"}], \"scatterpolar\": [{\"marker\": {\"colorbar\": {\"outlinewidth\": 0, \"ticks\": \"\"}}, \"type\": \"scatterpolar\"}], \"scatterpolargl\": [{\"marker\": {\"colorbar\": {\"outlinewidth\": 0, \"ticks\": \"\"}}, \"type\": \"scatterpolargl\"}], \"scatterternary\": [{\"marker\": {\"colorbar\": {\"outlinewidth\": 0, \"ticks\": \"\"}}, \"type\": \"scatterternary\"}], \"surface\": [{\"colorbar\": {\"outlinewidth\": 0, \"ticks\": \"\"}, \"colorscale\": [[0.0, \"#0d0887\"], [0.1111111111111111, \"#46039f\"], [0.2222222222222222, \"#7201a8\"], [0.3333333333333333, \"#9c179e\"], [0.4444444444444444, \"#bd3786\"], [0.5555555555555556, \"#d8576b\"], [0.6666666666666666, \"#ed7953\"], [0.7777777777777778, \"#fb9f3a\"], [0.8888888888888888, \"#fdca26\"], [1.0, \"#f0f921\"]], \"type\": \"surface\"}], \"table\": [{\"cells\": {\"fill\": {\"color\": \"#EBF0F8\"}, \"line\": {\"color\": \"white\"}}, \"header\": {\"fill\": {\"color\": \"#C8D4E3\"}, \"line\": {\"color\": \"white\"}}, \"type\": \"table\"}]}, \"layout\": {\"annotationdefaults\": {\"arrowcolor\": \"#2a3f5f\", \"arrowhead\": 0, \"arrowwidth\": 1}, \"autotypenumbers\": \"strict\", \"coloraxis\": {\"colorbar\": {\"outlinewidth\": 0, \"ticks\": \"\"}}, \"colorscale\": {\"diverging\": [[0, \"#8e0152\"], [0.1, \"#c51b7d\"], [0.2, \"#de77ae\"], [0.3, \"#f1b6da\"], [0.4, \"#fde0ef\"], [0.5, \"#f7f7f7\"], [0.6, \"#e6f5d0\"], [0.7, \"#b8e186\"], [0.8, \"#7fbc41\"], [0.9, \"#4d9221\"], [1, \"#276419\"]], \"sequential\": [[0.0, \"#0d0887\"], [0.1111111111111111, \"#46039f\"], [0.2222222222222222, \"#7201a8\"], [0.3333333333333333, \"#9c179e\"], [0.4444444444444444, \"#bd3786\"], [0.5555555555555556, \"#d8576b\"], [0.6666666666666666, \"#ed7953\"], [0.7777777777777778, \"#fb9f3a\"], [0.8888888888888888, \"#fdca26\"], [1.0, \"#f0f921\"]], \"sequentialminus\": [[0.0, \"#0d0887\"], [0.1111111111111111, \"#46039f\"], [0.2222222222222222, \"#7201a8\"], [0.3333333333333333, \"#9c179e\"], [0.4444444444444444, \"#bd3786\"], [0.5555555555555556, \"#d8576b\"], [0.6666666666666666, \"#ed7953\"], [0.7777777777777778, \"#fb9f3a\"], [0.8888888888888888, \"#fdca26\"], [1.0, \"#f0f921\"]]}, \"colorway\": [\"#636efa\", \"#EF553B\", \"#00cc96\", \"#ab63fa\", \"#FFA15A\", \"#19d3f3\", \"#FF6692\", \"#B6E880\", \"#FF97FF\", \"#FECB52\"], \"font\": {\"color\": \"#2a3f5f\"}, \"geo\": {\"bgcolor\": \"white\", \"lakecolor\": \"white\", \"landcolor\": \"#E5ECF6\", \"showlakes\": true, \"showland\": true, \"subunitcolor\": \"white\"}, \"hoverlabel\": {\"align\": \"left\"}, \"hovermode\": \"closest\", \"mapbox\": {\"style\": \"light\"}, \"paper_bgcolor\": \"white\", \"plot_bgcolor\": \"#E5ECF6\", \"polar\": {\"angularaxis\": {\"gridcolor\": \"white\", \"linecolor\": \"white\", \"ticks\": \"\"}, \"bgcolor\": \"#E5ECF6\", \"radialaxis\": {\"gridcolor\": \"white\", \"linecolor\": \"white\", \"ticks\": \"\"}}, \"scene\": {\"xaxis\": {\"backgroundcolor\": \"#E5ECF6\", \"gridcolor\": \"white\", \"gridwidth\": 2, \"linecolor\": \"white\", \"showbackground\": true, \"ticks\": \"\", \"zerolinecolor\": \"white\"}, \"yaxis\": {\"backgroundcolor\": \"#E5ECF6\", \"gridcolor\": \"white\", \"gridwidth\": 2, \"linecolor\": \"white\", \"showbackground\": true, \"ticks\": \"\", \"zerolinecolor\": \"white\"}, \"zaxis\": {\"backgroundcolor\": \"#E5ECF6\", \"gridcolor\": \"white\", \"gridwidth\": 2, \"linecolor\": \"white\", \"showbackground\": true, \"ticks\": \"\", \"zerolinecolor\": \"white\"}}, \"shapedefaults\": {\"line\": {\"color\": \"#2a3f5f\"}}, \"ternary\": {\"aaxis\": {\"gridcolor\": \"white\", \"linecolor\": \"white\", \"ticks\": \"\"}, \"baxis\": {\"gridcolor\": \"white\", \"linecolor\": \"white\", \"ticks\": \"\"}, \"bgcolor\": \"#E5ECF6\", \"caxis\": {\"gridcolor\": \"white\", \"linecolor\": \"white\", \"ticks\": \"\"}}, \"title\": {\"x\": 0.05}, \"xaxis\": {\"automargin\": true, \"gridcolor\": \"white\", \"linecolor\": \"white\", \"ticks\": \"\", \"title\": {\"standoff\": 15}, \"zerolinecolor\": \"white\", \"zerolinewidth\": 2}, \"yaxis\": {\"automargin\": true, \"gridcolor\": \"white\", \"linecolor\": \"white\", \"ticks\": \"\", \"title\": {\"standoff\": 15}, \"zerolinecolor\": \"white\", \"zerolinewidth\": 2}}}, \"title\": {\"text\": \"Ranking Net Effect of Votes by State\"}},                        {\"responsive\": true}                    ).then(function(){\n",
       "                            \n",
       "var gd = document.getElementById('224931ec-7af0-4a8e-b541-9854fb427112');\n",
       "var x = new MutationObserver(function (mutations, observer) {{\n",
       "        var display = window.getComputedStyle(gd).display;\n",
       "        if (!display || display === 'none') {{\n",
       "            console.log([gd, 'removed!']);\n",
       "            Plotly.purge(gd);\n",
       "            observer.disconnect();\n",
       "        }}\n",
       "}});\n",
       "\n",
       "// Listen for the removal of the full notebook cells\n",
       "var notebookContainer = gd.closest('#notebook-container');\n",
       "if (notebookContainer) {{\n",
       "    x.observe(notebookContainer, {childList: true});\n",
       "}}\n",
       "\n",
       "// Listen for the clearing of the current output cell\n",
       "var outputEl = gd.closest('.output');\n",
       "if (outputEl) {{\n",
       "    x.observe(outputEl, {childList: true});\n",
       "}}\n",
       "\n",
       "                        })                };                });            </script>        </div>"
      ]
     },
     "metadata": {},
     "output_type": "display_data"
    }
   ],
   "source": [
    "water_fall2 = water_fall.to_frame().reset_index()\n",
    "fig = go.Figure(go.Waterfall(\n",
    "    name = \"20\", orientation = \"v\",\n",
    "    measure = ['relative', 'relative', 'relative', 'relative', 'relative', 'relative', 'relative', 'relative','total'],\n",
    "    x = water_fall2['State'],\n",
    "    textposition = \"outside\",\n",
    "    text = water_fall2['net_vote'],\n",
    "    y = water_fall2['net_vote'],\n",
    "    connector = {\"line\":{\"color\":\"rgb(63, 63, 63)\"}},\n",
    "))\n",
    "fig.update_layout(\n",
    "        title = \"Ranking Net Effect of Votes by State\",\n",
    "        showlegend = False\n",
    ")\n",
    "fig.show()"
   ]
  },
  {
   "cell_type": "markdown",
   "id": "6f0f1a79",
   "metadata": {},
   "source": [
    "## Due to the immense size difference between states, we choose to focus on New South Wales, Queensland, and Victoria"
   ]
  },
  {
   "cell_type": "code",
   "execution_count": 39,
   "id": "a9591d1d",
   "metadata": {},
   "outputs": [
    {
     "name": "stdout",
     "output_type": "stream",
     "text": [
      "the total number of votes in the whole of Australia is 12691234.0\n",
      "the total number of votes in the three states is 9866002.0, which is 77.74% of the total votes\n"
     ]
    }
   ],
   "source": [
    "# Filter the data frame for the 3 main states\n",
    "mainstates_response = df_response[df_response['State'].isin(['New South Wales', 'Queensland', 'Victoria'])]\n",
    "\n",
    "total_votes = df_response['vote_total_qty'].sum()\n",
    "print(f'the total number of votes in the whole of Australia is {total_votes}')\n",
    "\n",
    "mainstate_votes = mainstates_response['vote_total_qty'].sum()\n",
    "pct = round((mainstate_votes / total_votes) * 100,2)\n",
    "print(f'the total number of votes in the three states is {mainstate_votes}, which is {pct}% of the total votes')"
   ]
  },
  {
   "cell_type": "markdown",
   "id": "8380a943",
   "metadata": {},
   "source": [
    "## Discovering Differences in Approval Rates across States"
   ]
  },
  {
   "cell_type": "code",
   "execution_count": 41,
   "id": "d003dc59",
   "metadata": {
    "scrolled": false
   },
   "outputs": [
    {
     "data": {
      "image/png": "[encoded data removed]",
      "text/plain": [
       "<Figure size 720x432 with 1 Axes>"
      ]
     },
     "metadata": {
      "needs_background": "light"
     },
     "output_type": "display_data"
    }
   ],
   "source": [
    "# Group data by 'state' and then create a box plot\n",
    "ax = mainstates_response.boxplot(column='vote_yes_pct', \n",
    "                         by='State', \n",
    "                         vert=False, \n",
    "                         figsize=(10, 6),\n",
    "                         boxprops=dict(linestyle='-', linewidth=2, color='black'), \n",
    "                         whiskerprops=dict(linestyle='-', linewidth=2, color='black'))\n",
    "ax.grid(False)\n",
    "\n",
    "plt.ylabel('')\n",
    "plt.title('Variation of Vote Yes Percentage within Queensland, NSW, and Victoria', fontsize = 20)\n",
    "plt.suptitle('')  # Remove the automatic 'Boxplot grouped by state' title\n",
    "plt.xlabel('Approval Percentage', fontsize = 12)\n",
    "\n",
    "# Extend the x-axis limits to make room for annotations\n",
    "ax.set_xlim(ax.get_xlim()[0], ax.get_xlim()[1] + 10)\n",
    "total_votes_per_state = mainstates_response.groupby('State')['vote_total_qty'].sum()\n",
    "\n",
    "# Annotate each boxplot with the total number of votes, positioned to the right of the plot\n",
    "for i, (state, total_votes) in enumerate(total_votes_per_state.items(), start=1):\n",
    "    ax.annotate(f'Total Votes: {total_votes}', xy=(1, i), xycoords=('axes fraction', 'data'),\n",
    "                xytext=(50, 0), textcoords='offset points',  # Adjust xytext for positioning\n",
    "                va='center', ha='right', fontsize=12, color='blue')\n",
    "\n",
    "plt.show()"
   ]
  },
  {
   "cell_type": "markdown",
   "id": "1873b3aa",
   "metadata": {},
   "source": [
    "## Understanding What affects Approval Variation across States\n"
   ]
  },
  {
   "cell_type": "markdown",
   "id": "b2677d59",
   "metadata": {},
   "source": [
    "### Demographic Mix within NSW, Queensland, and Victoria in 2016 and its relationship with survey results\n",
    "\n",
    "    * The Australian Bureau of Statistics offers data on its demographics in the year 2017 for different States\n",
    "    \n",
    "    * The premise of this section is to analyze the demographics of the States, and analyze their effect on Approval Rates\n",
    "    \n",
    "    * It is possible that more senior folk might hold on to conservative views as compared to their younger peers\n",
    "    \n",
    "### Conclusion : \n",
    "\n",
    "    * Demographics do not explain the variation in Approval. Our plot shows that the demographics across the 3 states are not materially different"
   ]
  },
  {
   "cell_type": "code",
   "execution_count": 85,
   "id": "e9fe7a6f",
   "metadata": {},
   "outputs": [],
   "source": [
    "mainstates_part = df_part[df_part['State'].isin(['New South Wales', 'Queensland', 'Victoria'])]\n",
    "\n",
    "# Get the demographic Data that we want\n",
    "demographic_df = mainstates_part[mainstates_part['statistic']=='Total participants'].groupby(['State', 'age_category'])['quantity'].sum()\n",
    "demographic_df = demographic_df.reset_index()\n",
    "\n",
    "# Split this dataframe into 3 seperate dataframes\n",
    "NSW_demo = demographic_df[demographic_df['State'] == 'New South Wales'][['age_category', 'quantity']]\n",
    "queens_demo = demographic_df[demographic_df['State'] == 'Queensland'][['age_category', 'quantity']]\n",
    "vict_demo = demographic_df[demographic_df['State'] == 'Victoria'][['age_category', 'quantity']]\n",
    "\n",
    "# Calculate the demographic split across all states\n",
    "lst = [NSW_demo, queens_demo, vict_demo]\n",
    "for df in lst:\n",
    "    max_pop = df[df['age_category']=='Total Persons']['quantity'].values\n",
    "    df['proportion'] = round(df['quantity'] / max_pop, 4)\n",
    "    # df = df.drop(df.index[-1])\n",
    "    \n",
    "NSW_demo = NSW_demo.drop(NSW_demo.index[-1])\n",
    "queens_demo = queens_demo.drop(queens_demo.index[-1])\n",
    "vict_demo = vict_demo.drop(vict_demo.index[-1])"
   ]
  },
  {
   "cell_type": "code",
   "execution_count": 90,
   "id": "c34ab60a",
   "metadata": {},
   "outputs": [
    {
     "data": {
      "image/png": "[encoded data removed]",
      "text/plain": [
       "<Figure size 1080x432 with 1 Axes>"
      ]
     },
     "metadata": {
      "needs_background": "light"
     },
     "output_type": "display_data"
    }
   ],
   "source": [
    "positions = list(range(len(NSW_demo['age_category'])))\n",
    "width = 0.25\n",
    "plt.figure(figsize=(15, 6))\n",
    "\n",
    "# Plotting each series\n",
    "plt.bar([p - width for p in positions], NSW_demo['proportion'], width, alpha=0.5, color='skyblue',label='NSW')\n",
    "plt.bar(positions, queens_demo['proportion'], width, alpha=0.5, color='red', label='Queens')\n",
    "plt.bar([p + width for p in positions], vict_demo['proportion'], width, alpha=0.5, color='tomato',label='Vict')\n",
    "\n",
    "# Adding the legend and labels\n",
    "plt.title('Demographic comparison Across the 3 main states', fontsize=20)\n",
    "plt.xticks(positions, NSW_demo['age_category'], rotation=45)\n",
    "\n",
    "# Add a legend\n",
    "plt.legend()\n",
    "plt.show()"
   ]
  },
  {
   "cell_type": "markdown",
   "id": "6bf198c4",
   "metadata": {},
   "source": [
    "### More Demographic Statistics : Religion\n",
    "\n",
    "One of the factors affecting the Western transition towards LGBTQ acceptance / instituitionalization might be the persistence of religious beliefs which shun homosexuality\n",
    "    \n",
    "Two notable religions come to mind : Christianity(incl Catholicism) & Islam\n",
    "    \n",
    "In truth, this is actually a well known fact : **Data from ABS census has revealed that no_votes are correlated with %christians, %islam, in electorate divisions, and negatively correlated with %no_religion**\n",
    "\n",
    "![My Image](religion_approval_rate.png)\n",
    "\n",
    "While we would like to plot the data using a scatter plot of 150 points to identify relationships within the scatterplot, **we do not have access to ABS religion data by electorate division** - the only known library that provides access to the data is a retired R-package called `eechidna`\n",
    "\n",
    "### We will settle for State level Data to observe whether any trends exist"
   ]
  },
  {
   "cell_type": "code",
   "execution_count": 122,
   "id": "63368344",
   "metadata": {},
   "outputs": [],
   "source": [
    "df_religion = pd.read_excel('demographics_religion_by_state.xlsx', sheet_name='Data')"
   ]
  },
  {
   "cell_type": "code",
   "execution_count": 123,
   "id": "0850b43a",
   "metadata": {},
   "outputs": [],
   "source": [
    "df_state_aggregates = df_response.groupby('State')[['vote_yes_qty','vote_total_qty']].sum().reset_index()\n",
    "df_state_aggregates['approval_rate'] = round(df_state_aggregates['vote_yes_qty'] / df_state_aggregates['vote_total_qty'],2)*100\n",
    "df_state_aggregates\n",
    "\n",
    "df_christianity_approval_corr = pd.merge(df_religion[df_religion['Religion'] == 'Christianity'].copy().reset_index(), \n",
    "                                         df_state_aggregates, on='State')[['State', 'Proportion', 'approval_rate']]\n",
    "\n",
    "df_islam_approval_corr = pd.merge(df_religion[df_religion['Religion'] == 'Islam'].copy().reset_index(), \n",
    "                                         df_state_aggregates, on='State')[['State', 'Proportion', 'approval_rate']]\n",
    "\n",
    "df_noreligion_approval_corr = pd.merge(df_religion[df_religion['Religion'] == 'No Religion, so described'].copy().reset_index(), \n",
    "                                         df_state_aggregates, on='State')[['State', 'Proportion', 'approval_rate']]"
   ]
  },
  {
   "cell_type": "markdown",
   "id": "1c8483a3",
   "metadata": {},
   "source": [
    "### Finding :\n",
    "\n",
    "It appears as though - at the state level - the trend is very obvious for Christianity and \"No religion\"\n",
    "\n",
    "However, we see that the trend is not that obvious for the Muslim Religion"
   ]
  },
  {
   "cell_type": "code",
   "execution_count": 124,
   "id": "c12d8d9c",
   "metadata": {
    "scrolled": true
   },
   "outputs": [
    {
     "data": {
      "image/png": "[encoded data removed]",
      "text/plain": [
       "<Figure size 1080x360 with 3 Axes>"
      ]
     },
     "metadata": {
      "needs_background": "light"
     },
     "output_type": "display_data"
    }
   ],
   "source": [
    "fig, axs = plt.subplots(1,3, figsize=(15, 5))\n",
    "\n",
    "axs[0].scatter(df_christianity_approval_corr['approval_rate'],\n",
    "               df_christianity_approval_corr['Proportion'],\n",
    "               s=100,color='red')\n",
    "axs[0].set_title('Approval Rates with proportion christians')\n",
    "\n",
    "axs[1].scatter(df_islam_approval_corr['approval_rate'],\n",
    "               df_islam_approval_corr['Proportion'],\n",
    "               s=100,color='blue')\n",
    "axs[1].set_title('Approval Rates with proportion islam')\n",
    "\n",
    "axs[2].scatter(df_noreligion_approval_corr['approval_rate'],\n",
    "               df_noreligion_approval_corr['Proportion'],\n",
    "               s=100,color='green')\n",
    "axs[2].set_title('Approval Rates with proportion no religion')\n",
    "\n",
    "plt.show()"
   ]
  }
 ],
 "metadata": {
  "kernelspec": {
   "display_name": "Python 3",
   "language": "python",
   "name": "python3"
  },
  "language_info": {
   "codemirror_mode": {
    "name": "ipython",
    "version": 3
   },
   "file_extension": ".py",
   "mimetype": "text/x-python",
   "name": "python",
   "nbconvert_exporter": "python",
   "pygments_lexer": "ipython3",
   "version": "3.8.8"
  }
 },
 "nbformat": 4,
 "nbformat_minor": 5
}
